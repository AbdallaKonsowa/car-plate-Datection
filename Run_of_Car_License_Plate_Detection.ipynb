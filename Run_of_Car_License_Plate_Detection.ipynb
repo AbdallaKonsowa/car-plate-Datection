{
  "nbformat": 4,
  "nbformat_minor": 0,
  "metadata": {
    "colab": {
      "provenance": [],
      "collapsed_sections": []
    },
    "kernelspec": {
      "name": "python3",
      "display_name": "Python 3"
    },
    "language_info": {
      "name": "python"
    },
    "accelerator": "GPU"
  },
  "cells": [
    {
      "cell_type": "code",
      "execution_count": null,
      "metadata": {
        "id": "0x_60aNkKWQL",
        "colab": {
          "base_uri": "https://localhost:8080/"
        },
        "outputId": "c7af2806-de51-4234-fa1c-d3d87b121351"
      },
      "outputs": [
        {
          "output_type": "stream",
          "name": "stdout",
          "text": [
            "Mounted at /content/drive\n"
          ]
        }
      ],
      "source": [
        "from google.colab import drive\n",
        "drive.mount('/content/drive', force_remount=True)"
      ]
    },
    {
      "cell_type": "code",
      "source": [
        "from matplotlib import pyplot as plt\n",
        "import cv2\n",
        "from google.colab.patches import cv2_imshow\n",
        "import os"
      ],
      "metadata": {
        "id": "0shQBWFgKb18"
      },
      "execution_count": null,
      "outputs": []
    },
    {
      "cell_type": "code",
      "source": [
        "\n",
        "model_path='/content/drive/MyDrive/finial_project/my_model.h5'\n",
        "from keras.models import load_model\n",
        "model = load_model(model_path)"
      ],
      "metadata": {
        "id": "5jLaN8yhK4yB"
      },
      "execution_count": null,
      "outputs": []
    },
    {
      "cell_type": "code",
      "source": [
        "car_path = '/content/drive/MyDrive/finial_project/images/Cars0.png'\n",
        "car = cv2.imread(car_path,cv2.IMREAD_UNCHANGED)\n",
        "car = cv2.resize(car, (224,224))\n",
        "\n",
        "x= car.reshape((1,) + car.shape)\n",
        "predicted_image = model.predict(x)\n",
        "\n",
        "ny = predicted_image[0]*255"
      ],
      "metadata": {
        "id": "dsh4rK1RK8Ey"
      },
      "execution_count": null,
      "outputs": []
    },
    {
      "cell_type": "markdown",
      "source": [
        "\n",
        "### OCR"
      ],
      "metadata": {
        "id": "SIYGrBMVt9pR"
      }
    },
    {
      "cell_type": "code",
      "source": [
        "# cd /content/drive/MyDrive/finial_project/OCR/"
      ],
      "metadata": {
        "id": "wGHVtjNhLHZE"
      },
      "execution_count": null,
      "outputs": []
    },
    {
      "cell_type": "code",
      "source": [
        "!pip install ArabicOcr\n"
      ],
      "metadata": {
        "colab": {
          "base_uri": "https://localhost:8080/",
          "height": 748
        },
        "id": "GMRLeYrXEwWi",
        "outputId": "a4fe2aa2-34fa-48d4-bbca-ab018f3fa842"
      },
      "execution_count": null,
      "outputs": [
        {
          "output_type": "stream",
          "name": "stdout",
          "text": [
            "Looking in indexes: https://pypi.org/simple, https://us-python.pkg.dev/colab-wheels/public/simple/\n",
            "Collecting ArabicOcr\n",
            "  Downloading ArabicOcr-1.1.6-py3-none-any.whl (3.4 kB)\n",
            "Collecting easyocr\n",
            "  Downloading easyocr-1.5.0-py3-none-any.whl (70.8 MB)\n",
            "\u001b[K     |████████████████████████████████| 70.8 MB 19 kB/s \n",
            "\u001b[?25hCollecting python-bidi\n",
            "  Downloading python_bidi-0.4.2-py2.py3-none-any.whl (30 kB)\n",
            "Requirement already satisfied: Pillow in /usr/local/lib/python3.7/dist-packages (from easyocr->ArabicOcr) (7.1.2)\n",
            "Requirement already satisfied: numpy in /usr/local/lib/python3.7/dist-packages (from easyocr->ArabicOcr) (1.21.6)\n",
            "Requirement already satisfied: torch in /usr/local/lib/python3.7/dist-packages (from easyocr->ArabicOcr) (1.11.0+cu113)\n",
            "Requirement already satisfied: scikit-image in /usr/local/lib/python3.7/dist-packages (from easyocr->ArabicOcr) (0.18.3)\n",
            "Requirement already satisfied: PyYAML in /usr/local/lib/python3.7/dist-packages (from easyocr->ArabicOcr) (3.13)\n",
            "Requirement already satisfied: torchvision>=0.5 in /usr/local/lib/python3.7/dist-packages (from easyocr->ArabicOcr) (0.12.0+cu113)\n",
            "Requirement already satisfied: scipy in /usr/local/lib/python3.7/dist-packages (from easyocr->ArabicOcr) (1.4.1)\n",
            "Collecting opencv-python-headless<=4.5.4.60\n",
            "  Downloading opencv_python_headless-4.5.4.60-cp37-cp37m-manylinux_2_17_x86_64.manylinux2014_x86_64.whl (47.6 MB)\n",
            "\u001b[K     |████████████████████████████████| 47.6 MB 1.2 MB/s \n",
            "\u001b[?25hRequirement already satisfied: requests in /usr/local/lib/python3.7/dist-packages (from torchvision>=0.5->easyocr->ArabicOcr) (2.23.0)\n",
            "Requirement already satisfied: typing-extensions in /usr/local/lib/python3.7/dist-packages (from torchvision>=0.5->easyocr->ArabicOcr) (4.1.1)\n",
            "Requirement already satisfied: six in /usr/local/lib/python3.7/dist-packages (from python-bidi->easyocr->ArabicOcr) (1.15.0)\n",
            "Requirement already satisfied: idna<3,>=2.5 in /usr/local/lib/python3.7/dist-packages (from requests->torchvision>=0.5->easyocr->ArabicOcr) (2.10)\n",
            "Requirement already satisfied: chardet<4,>=3.0.2 in /usr/local/lib/python3.7/dist-packages (from requests->torchvision>=0.5->easyocr->ArabicOcr) (3.0.4)\n",
            "Requirement already satisfied: urllib3!=1.25.0,!=1.25.1,<1.26,>=1.21.1 in /usr/local/lib/python3.7/dist-packages (from requests->torchvision>=0.5->easyocr->ArabicOcr) (1.24.3)\n",
            "Requirement already satisfied: certifi>=2017.4.17 in /usr/local/lib/python3.7/dist-packages (from requests->torchvision>=0.5->easyocr->ArabicOcr) (2022.6.15)\n",
            "Requirement already satisfied: imageio>=2.3.0 in /usr/local/lib/python3.7/dist-packages (from scikit-image->easyocr->ArabicOcr) (2.4.1)\n",
            "Requirement already satisfied: networkx>=2.0 in /usr/local/lib/python3.7/dist-packages (from scikit-image->easyocr->ArabicOcr) (2.6.3)\n",
            "Requirement already satisfied: PyWavelets>=1.1.1 in /usr/local/lib/python3.7/dist-packages (from scikit-image->easyocr->ArabicOcr) (1.3.0)\n",
            "Requirement already satisfied: matplotlib!=3.0.0,>=2.0.0 in /usr/local/lib/python3.7/dist-packages (from scikit-image->easyocr->ArabicOcr) (3.2.2)\n",
            "Requirement already satisfied: tifffile>=2019.7.26 in /usr/local/lib/python3.7/dist-packages (from scikit-image->easyocr->ArabicOcr) (2021.11.2)\n",
            "Requirement already satisfied: cycler>=0.10 in /usr/local/lib/python3.7/dist-packages (from matplotlib!=3.0.0,>=2.0.0->scikit-image->easyocr->ArabicOcr) (0.11.0)\n",
            "Requirement already satisfied: pyparsing!=2.0.4,!=2.1.2,!=2.1.6,>=2.0.1 in /usr/local/lib/python3.7/dist-packages (from matplotlib!=3.0.0,>=2.0.0->scikit-image->easyocr->ArabicOcr) (3.0.9)\n",
            "Requirement already satisfied: kiwisolver>=1.0.1 in /usr/local/lib/python3.7/dist-packages (from matplotlib!=3.0.0,>=2.0.0->scikit-image->easyocr->ArabicOcr) (1.4.3)\n",
            "Requirement already satisfied: python-dateutil>=2.1 in /usr/local/lib/python3.7/dist-packages (from matplotlib!=3.0.0,>=2.0.0->scikit-image->easyocr->ArabicOcr) (2.8.2)\n",
            "Installing collected packages: python-bidi, opencv-python-headless, easyocr, ArabicOcr\n",
            "Successfully installed ArabicOcr-1.1.6 easyocr-1.5.0 opencv-python-headless-4.5.4.60 python-bidi-0.4.2\n"
          ]
        },
        {
          "output_type": "display_data",
          "data": {
            "application/vnd.colab-display-data+json": {
              "pip_warning": {
                "packages": [
                  "cv2"
                ]
              }
            }
          },
          "metadata": {}
        }
      ]
    },
    {
      "cell_type": "code",
      "source": [
        "from ArabicOcr import arabicocr\n",
        "out_image='out2.jpg'\n",
        "Red_car_path='/content/drive/MyDrive/finial_project/result/plate2.jpg'\n",
        "\n",
        "# Red_car_path='/content/drive/MyDrive/finial_project/result/dk.png'\n",
        "\n",
        "out_image='out.jpg'\n",
        "results=arabicocr.arabic_ocr(Red_car_path, out_image)\n",
        "# print(results)\n",
        "\n",
        "words=[]\n",
        "for i in range(len(results)):\t\n",
        "\t\tword=results[i][1]\n",
        "\t\twords.append(word)\n",
        "words.pop(0)\n",
        "words.pop(0)\n",
        "\n",
        "\n",
        "import json\n",
        "import requests \n",
        "from google.colab.patches import cv2_imshow\n",
        "import cv2\n",
        "\n",
        "plate_number=\"\"\n",
        "for word in words:\n",
        "  plate_number=plate_number+word\n",
        "\n",
        "url = 'https://kartaa.herokuapp.com/'\n",
        "\n",
        "def main():\n",
        "    response = requests.post(url, json={\"data\": plate_number})\n",
        "    print(response)\n",
        "    exit(0)\n",
        "\n",
        "if __name__ == '__main__':\n",
        "    main()\n",
        "    img = cv2.imread('out.jpg', cv2.IMREAD_UNCHANGED)\n",
        "    cv2_imshow(img)\n",
        "    print(\"the plate number is:\",plate_number)\n"
      ],
      "metadata": {
        "id": "gL8QI2hmuHHx",
        "colab": {
          "base_uri": "https://localhost:8080/",
          "height": 258
        },
        "outputId": "73359a6a-8431-4680-dd1c-c8cd12af53a4"
      },
      "execution_count": null,
      "outputs": [
        {
          "output_type": "stream",
          "name": "stderr",
          "text": [
            "Using CPU. Note: This module is much faster with a GPU.\n"
          ]
        },
        {
          "output_type": "stream",
          "name": "stdout",
          "text": [
            "[INFO] OCR'ing input image...\n",
            "[INFO] 0.5833: ٤GYPT\n",
            "[INFO] 0.9330: مصر\n",
            "[INFO] 0.6880: سم ر ٦٦٦\n",
            "<Response [200]>\n"
          ]
        },
        {
          "output_type": "display_data",
          "data": {
            "text/plain": [
              "<PIL.Image.Image image mode=RGB size=225x119 at 0x7F7EB999D550>"
            ],
            "image/png": "[encoded data removed]"
          },
          "metadata": {}
        },
        {
          "output_type": "stream",
          "name": "stdout",
          "text": [
            "the plate number is: سم ر ٦٦٦\n"
          ]
        }
      ]
    },
    {
      "cell_type": "code",
      "source": [
        "words=[]\n",
        "for i in range(len(results)):\t\n",
        "\t\tword=results[i][1]\n",
        "\t\twords.append(word)\n",
        "words.pop(0)\n",
        "words.pop(0)\n",
        "# print(word)"
      ],
      "metadata": {
        "id": "g-BRiUh1GY4p"
      },
      "execution_count": null,
      "outputs": []
    },
    {
      "cell_type": "code",
      "source": [
        "print(words)"
      ],
      "metadata": {
        "id": "hTw7auj5oNEg"
      },
      "execution_count": null,
      "outputs": []
    },
    {
      "cell_type": "markdown",
      "source": [
        "Connecting Firebase "
      ],
      "metadata": {
        "id": "_7V80ol-GQH1"
      }
    },
    {
      "cell_type": "code",
      "source": [
        "import json\n",
        "import requests\n",
        "\n",
        "# plate = word[0]+word[1]\n",
        "# print(words)\n",
        "plate = words[1]+words[0]\n",
        "# print(plate)\n",
        "\n",
        "url = 'https://kartaa.herokuapp.com/'\n",
        "\n",
        "def main():\n",
        "    response = requests.post(url, json={\"data\": plate})\n",
        "    print(response)\n",
        "    exit(0)\n",
        "\n",
        "if __name__ == '__main__':\n",
        "    main()\n",
        "    print(plate)\n"
      ],
      "metadata": {
        "id": "ivb-x3z40b3m"
      },
      "execution_count": null,
      "outputs": []
    },
    {
      "cell_type": "code",
      "source": [],
      "metadata": {
        "id": "C2BO6j3XH2qQ"
      },
      "execution_count": null,
      "outputs": []
    }
  ]
}